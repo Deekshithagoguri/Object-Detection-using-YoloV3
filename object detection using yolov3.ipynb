{
 "cells": [
  {
   "cell_type": "code",
   "execution_count": 1,
   "id": "f17f7c4f",
   "metadata": {},
   "outputs": [],
   "source": [
    "import cv2"
   ]
  },
  {
   "cell_type": "code",
   "execution_count": 2,
   "id": "ceb9c9c7",
   "metadata": {},
   "outputs": [],
   "source": [
    "import numpy as np"
   ]
  },
  {
   "cell_type": "code",
   "execution_count": 3,
   "id": "a2d067d8",
   "metadata": {},
   "outputs": [],
   "source": [
    "net=cv2.dnn.readNet('yolov3.weights','yolov3.cfg')"
   ]
  },
  {
   "cell_type": "code",
   "execution_count": 4,
   "id": "4416a360",
   "metadata": {},
   "outputs": [],
   "source": [
    "classes=[]"
   ]
  },
  {
   "cell_type": "code",
   "execution_count": 5,
   "id": "3bb75279",
   "metadata": {
    "scrolled": true
   },
   "outputs": [],
   "source": [
    "with open('coco.names.txt','r') as f:\n",
    "    classes=f.read().splitlines()\n",
    "#cap=cv2.videoCapture('yolov3_object_detection_video.mp4')"
   ]
  },
  {
   "cell_type": "code",
   "execution_count": 6,
   "id": "9f10f970",
   "metadata": {},
   "outputs": [
    {
     "data": {
      "text/plain": [
       "['person',\n",
       " 'bicycle',\n",
       " 'car',\n",
       " 'motorbike',\n",
       " 'aeroplane',\n",
       " 'bus',\n",
       " 'train',\n",
       " 'truck',\n",
       " 'boat',\n",
       " 'traffic light',\n",
       " 'fire hydrant',\n",
       " 'stop sign',\n",
       " 'parking meter',\n",
       " 'bench',\n",
       " 'bird',\n",
       " 'cat',\n",
       " 'dog',\n",
       " 'horse',\n",
       " 'sheep',\n",
       " 'cow',\n",
       " 'elephant',\n",
       " 'bear',\n",
       " 'zebra',\n",
       " 'giraffe',\n",
       " 'backpack',\n",
       " 'umbrella',\n",
       " 'handbag',\n",
       " 'tie',\n",
       " 'suitcase',\n",
       " 'frisbee',\n",
       " 'skis',\n",
       " 'snowboard',\n",
       " 'sports ball',\n",
       " 'kite',\n",
       " 'baseball bat',\n",
       " 'baseball glove',\n",
       " 'skateboard',\n",
       " 'surfboard',\n",
       " 'tennis racket',\n",
       " 'bottle',\n",
       " 'wine glass',\n",
       " 'cup',\n",
       " 'fork',\n",
       " 'knife',\n",
       " 'spoon',\n",
       " 'bowl',\n",
       " 'banana',\n",
       " 'apple',\n",
       " 'sandwich',\n",
       " 'orange',\n",
       " 'broccoli',\n",
       " 'carrot',\n",
       " 'hot dog',\n",
       " 'pizza',\n",
       " 'donut',\n",
       " 'cake',\n",
       " 'chair',\n",
       " 'sofa',\n",
       " 'pottedplant',\n",
       " 'bed',\n",
       " 'diningtable',\n",
       " 'toilet',\n",
       " 'tvmonitor',\n",
       " 'laptop',\n",
       " 'mouse',\n",
       " 'remote',\n",
       " 'keyboard',\n",
       " 'cell phone',\n",
       " 'microwave',\n",
       " 'oven',\n",
       " 'toaster',\n",
       " 'sink',\n",
       " 'refrigerator',\n",
       " 'book',\n",
       " 'clock',\n",
       " 'vase',\n",
       " 'scissors',\n",
       " 'teddy bear',\n",
       " 'hair drier',\n",
       " 'toothbrush']"
      ]
     },
     "execution_count": 6,
     "metadata": {},
     "output_type": "execute_result"
    }
   ],
   "source": [
    "classes"
   ]
  },
  {
   "cell_type": "code",
   "execution_count": 15,
   "id": "66806669",
   "metadata": {},
   "outputs": [],
   "source": [
    "img=cv2.imread('object4.jpg')\n",
    "height,width,_ = img.shape"
   ]
  },
  {
   "cell_type": "code",
   "execution_count": 16,
   "id": "76ac6bcd",
   "metadata": {},
   "outputs": [],
   "source": [
    "cv2.imshow('Image',img)\n",
    "cv2.waitKey(0)\n",
    "cv2.destroyAllWindows()"
   ]
  },
  {
   "cell_type": "code",
   "execution_count": 17,
   "id": "33a338c0",
   "metadata": {},
   "outputs": [],
   "source": [
    "blob=cv2.dnn.blobFromImage(img,1/255,(416,416),(0,0,0),swapRB=True,crop=False)\n",
    "#for b in blob:\n",
    "#    for n,img_blob in enumerate(b):\n",
    "#        cv2.imshow(str(n),img_blob)\n",
    "cv2.waitKey(0)\n",
    "cv2.destroyAllWindows()"
   ]
  },
  {
   "cell_type": "code",
   "execution_count": 18,
   "id": "880b0e27",
   "metadata": {},
   "outputs": [],
   "source": [
    "net.setInput(blob)\n",
    "output_layers_names=net.getUnconnectedOutLayersNames()\n",
    "layerOutputs=net.forward(output_layers_names)"
   ]
  },
  {
   "cell_type": "code",
   "execution_count": 19,
   "id": "e074c296",
   "metadata": {},
   "outputs": [],
   "source": [
    "boxes=[]\n",
    "confidences=[]\n",
    "class_ids=[]"
   ]
  },
  {
   "cell_type": "code",
   "execution_count": null,
   "id": "16cf2299",
   "metadata": {},
   "outputs": [],
   "source": [
    "for output in layerOutputs:\n",
    "    for detection in output:\n",
    "        scores=detection[5:]\n",
    "        class_id=np.argmax(scores)\n",
    "        confidence=scores[class_id]\n",
    "        if confidence>0.5:\n",
    "            center_x=int(detection[0]*width)\n",
    "            center_y=int(detection[1]*height)\n",
    "            w=int(detection[2]*width)\n",
    "            h=int(detection[3]*height)\n",
    "            \n",
    "            x=int(center_x - w/2)\n",
    "            y=int(center_y - h/2)\n",
    "            \n",
    "            boxes.append([x,y,w,h])\n",
    "            confidences.append((float(confidence)))\n",
    "            class_ids.append(class_id)\n",
    "#print(len(boxes))\n",
    "indexes=cv2.dnn.NMSBoxes(boxes,confidences,0.5,0.4)\n",
    "#print(indexes.flatten())\n",
    "font=cv2.FONT_HERSHEY_PLAIN\n",
    "colors=np.random.uniform(0,255,size=(len(boxes),3))\n",
    "\n",
    "for i in indexes.flatten():\n",
    "    x,y,w,h=boxes[i]\n",
    "    label=str(classes[class_ids[i]])\n",
    "    confidence=str(round(confidences[i],2))\n",
    "    color=colors[i]\n",
    "    cv2.rectangle(img,(x,y),(x+w,y+h),color,2)\n",
    "    cv2.putText(img,label+ \" \" + confidence,(x,y+20),font,2,(255,255,255),2)\n",
    "\n",
    "            \n",
    "            \n",
    "cv2.imshow('Image',img)\n",
    "cv2.waitKey(0)\n",
    "cv2.destroyAllWindows()"
   ]
  },
  {
   "cell_type": "code",
   "execution_count": null,
   "id": "0d29b864",
   "metadata": {},
   "outputs": [],
   "source": []
  },
  {
   "cell_type": "code",
   "execution_count": null,
   "id": "a2bfc4f4",
   "metadata": {},
   "outputs": [],
   "source": []
  }
 ],
 "metadata": {
  "kernelspec": {
   "display_name": "Python 3",
   "language": "python",
   "name": "python3"
  },
  "language_info": {
   "codemirror_mode": {
    "name": "ipython",
    "version": 3
   },
   "file_extension": ".py",
   "mimetype": "text/x-python",
   "name": "python",
   "nbconvert_exporter": "python",
   "pygments_lexer": "ipython3",
   "version": "3.8.8"
  }
 },
 "nbformat": 4,
 "nbformat_minor": 5
}
